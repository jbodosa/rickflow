{
 "cells": [
  {
   "cell_type": "markdown",
   "metadata": {},
   "source": [
    "# Calculating Diffusion Profiles through Bayesian Analysis"
   ]
  },
  {
   "cell_type": "markdown",
   "metadata": {},
   "source": [
    "Diffusion profiles can be extracted from unrestrained molecular dynamics via Bayesian Analysis (BA), as first described by Hummer (2005). The BA can be performed using the python packages [diffusioncma](https://gitlab.com/Olllom/diffusioncma) or [mcdiff](https://github.com/annekegh/mcdiff).\n",
    "\n",
    "The most important input argument for these packages is a transition matrix, which can be extracted using the present rickflow package.\n",
    "\n",
    "This tutorial shows the calculation of diffusion profiles D(z) in two steps:\n",
    "1. Extraction of a transition matrix from an MD trajectory using rickflow.\n",
    "2. Bayesian Analysis using diffusioncma.\n",
    "\n",
    "\n"
   ]
  },
  {
   "cell_type": "markdown",
   "metadata": {},
   "source": [
    "# Get the Code (Recommended Way)\n",
    "Both *rickflow* and *diffusioncma* plus all their requirements should be installed in a conda environment."
   ]
  },
  {
   "cell_type": "markdown",
   "metadata": {},
   "source": [
    "- Download and install anaconda\n",
    "- Create a conda environment named *dcma_py36* that has all the requirements installed \n",
    "\n",
    "```\n",
    "conda -c omnia -c conda-forge -c olllom \\\n",
    "      create -n dcma_py36 \\\n",
    "      \"python=3.6\" diffusioncma mdtraj \"openmm>=7.3.0\"\n",
    "\n",
    "```\n",
    "- Activate the environment (has to be done every time you open a new terminal)\n",
    "```\n",
    "conda activate dcma_py36\n",
    "```\n",
    "(on older anaconda versions, it is ```source activate dcma_py36``` instead).\n",
    "\n",
    "- Clone the rickflow repository from gitlab:\n",
    "\n",
    "```    \n",
    "git clone git@gitlab.com:Olllom/rickflow.git\n",
    "```\n",
    "\n",
    "- cd into the rickflow directory and install the code\n",
    "\n",
    "```\n",
    "cd rickflow\n",
    "python setup.py install\n",
    "```"
   ]
  },
  {
   "cell_type": "markdown",
   "metadata": {},
   "source": [
    "## Step 1: Extract Transition Matrix\n",
    "\n",
    "The transition matrix stores the number N_ij of all transitions from bin i to bin j. \n",
    "In a Python script, we do the following:\n",
    "\n",
    "First, import the two classes that we need from the `rflow` module. The `CharmmTrajectoryIterator` is a helper class that loops over *dyn`i`.dcd* files. The `TransitionCounter` is responsible for assembling the transition matrices."
   ]
  },
  {
   "cell_type": "code",
   "execution_count": 29,
   "metadata": {},
   "outputs": [],
   "source": [
    "from rflow import CharmmTrajectoryIterator, TransitionCounter\n",
    "\n",
    "filename_template=\"/u/ewang/Projects/bacterial/popc-etoh-s170/1/namd/dyn{}.dcd\"\n",
    "topology_file=\"/u/ewang/Projects/bacterial/popc-etoh-s170/1/step5_assembly.psf\""
   ]
  },
  {
   "cell_type": "markdown",
   "metadata": {},
   "source": [
    "Note that `{}` in the `filename_template` acts as a wildcard that will assume the sequence numbers, i.e. *dyn1.dcd* etc.\n",
    "\n",
    "I am using Eric's files here, assuming that you have more or less the same file structure. If not, that is no problem -- you would just have to manually load the trajectories using `mdtraj.load()` instead of using the `CharmmTrajectoryIterator`.\n",
    "\n",
    "The trajectory iterator is set up with the above-defined dcd and psf files. It also takes two arguments `first_sequence` and `last_sequence` that specify the range of the trajectory files that you want to analyze. For this example, I will use all sequences from `dyn10.dcd` to `dyn20.dcd`, avoiding the equilibration phase, but still including a reasonable number of frames. Note that you can also omit the `last_sequence` argument. The code will automatically figure out the last sequence number in the directory."
   ]
  },
  {
   "cell_type": "code",
   "execution_count": 35,
   "metadata": {},
   "outputs": [
    {
     "name": "stderr",
     "output_type": "stream",
     "text": [
      "/u/akraemer/.conda/envs/openmm-7.4.0_cuda-9.2/lib/python3.6/site-packages/simtk/openmm/app/charmmpsffile.py:363: CharmmPSFWarning: Detected PSF molecule section that is WRONG. Resetting molecularity.\n",
      "  'Resetting molecularity.', CharmmPSFWarning)\n"
     ]
    }
   ],
   "source": [
    "trajectories = CharmmTrajectoryIterator(\n",
    "    filename_template=filename_template,\n",
    "    topology_file=topology_file,\n",
    "    first_sequence=10, last_sequence=20, \n",
    ")\n",
    "\n",
    "counter = TransitionCounter(\n",
    "    lag_iterations=[10, 20, 30, 40, 50, 60],\n",
    "    num_bins=100,\n",
    "    solute=\"resname ETOH\",\n",
    "    membrane=\"resname POPC\"\n",
    ")"
   ]
  },
  {
   "cell_type": "markdown",
   "metadata": {},
   "source": [
    "The two parameters `solute` and `membrane` take atom selection strings using mdtraj's DSL language, as documented [here](http://mdtraj.org/latest/atom_selection.html). If you have a membrane with various lipid types you have to do, e.g., \n",
    "\n",
    "```membrane=\"resname POPC and resname DOPC and resname CHL1\"```, or \n",
    "```membrane=\"(not water) and (not resname ETOH)\"``` instead.\n",
    "\n",
    "The parameter `num_bins` specifies the number of bins along the z-direction. 100 is usually a good choice.\n",
    "\n",
    "The parameter `lag_iterations` is a list of lag times for the Bayesian Analysis (specified in number of frames). If you save your output once every picosecond, the numbers will be in picoseconds.\n",
    "\n",
    "The next step runs the assembly of the matrices. This is the computationally expensive part."
   ]
  },
  {
   "cell_type": "code",
   "execution_count": 39,
   "metadata": {},
   "outputs": [
    {
     "name": "stdout",
     "output_type": "stream",
     "text": [
      "Trajectory 20/20 ... done.\n"
     ]
    }
   ],
   "source": [
    "for i,traj in enumerate(trajectories):\n",
    "    print(\"\\rTrajectory {}/{} ...\".format(i+trajectories.first, trajectories.last), end=\"\")\n",
    "    counter(traj)\n",
    "print(\" done.\")"
   ]
  },
  {
   "cell_type": "markdown",
   "metadata": {},
   "source": [
    "Let's save the matrices to files."
   ]
  },
  {
   "cell_type": "code",
   "execution_count": 32,
   "metadata": {},
   "outputs": [],
   "source": [
    "counter.save_matrices(\"transition_matrix_lag{}.txt\")"
   ]
  },
  {
   "cell_type": "markdown",
   "metadata": {},
   "source": [
    "And you should see files `transition_matrix_lag10.txt`, ... in your directory."
   ]
  },
  {
   "cell_type": "markdown",
   "metadata": {},
   "source": [
    "## Step 2: Optimize Diffusion profiles"
   ]
  },
  {
   "cell_type": "markdown",
   "metadata": {},
   "source": [
    "The next step is the Bayesian Analysis. Please see [the diffusioncma README file](https://gitlab.com/Olllom/diffusioncma) for a long description of how to do this. What follows here is just a very basic analysis. Diffusioncma can be used as a command line tool or through Python. I will describe the command line usage. To see the help message type\n",
    "\n",
    "```\n",
    "dcma opt --help\n",
    "```\n",
    "\n",
    "I will only be doing the optimization for the shortest lag time:"
   ]
  },
  {
   "cell_type": "code",
   "execution_count": 44,
   "metadata": {},
   "outputs": [
    {
     "name": "stdout",
     "output_type": "stream",
     "text": [
      "Optimizing Diffusion and Free Energy Profiles...\n",
      "STARTING CMA-ES\n",
      "Optimization finished.\n",
      "Running DCMA\n"
     ]
    }
   ],
   "source": [
    "%%bash\n",
    "dcma opt transition_matrix_lag10.txt --outfile profiles_lag10.txt"
   ]
  },
  {
   "cell_type": "markdown",
   "metadata": {},
   "source": [
    "The optimal profiles are stored in `profiles_lag10.txt`. The header of this file also lists the permeability."
   ]
  },
  {
   "cell_type": "code",
   "execution_count": 47,
   "metadata": {},
   "outputs": [
    {
     "name": "stdout",
     "output_type": "stream",
     "text": [
      "No labels given or wrong number of labels. Using file names as labels.\n",
      "The diffusion and free energy profiles have been saved to\n",
      "  profiles_lag10_D.png\n",
      "  profiles_lag10_F.png\n",
      "--------------------------------------------------------\n"
     ]
    }
   ],
   "source": [
    "%%bash\n",
    "dcma plot profiles_lag10.txt -o profiles_lag10"
   ]
  },
  {
   "cell_type": "markdown",
   "metadata": {},
   "source": [
    "This is how it looks like (the labels got messed up, but anyway :-), you can plot directly from the .txt files)."
   ]
  },
  {
   "cell_type": "markdown",
   "metadata": {},
   "source": [
    "<img src=\"profiles_lag10_F.png\" width='600px'>\n",
    "<img src=\"profiles_lag10_D.png\" width='600px'>"
   ]
  }
 ],
 "metadata": {
  "kernelspec": {
   "display_name": "Python [conda env:openmm-7.4.0_cuda-9.2]",
   "language": "python",
   "name": "conda-env-openmm-7.4.0_cuda-9.2-py"
  },
  "language_info": {
   "codemirror_mode": {
    "name": "ipython",
    "version": 3
   },
   "file_extension": ".py",
   "mimetype": "text/x-python",
   "name": "python",
   "nbconvert_exporter": "python",
   "pygments_lexer": "ipython3",
   "version": "3.6.6"
  }
 },
 "nbformat": 4,
 "nbformat_minor": 2
}
