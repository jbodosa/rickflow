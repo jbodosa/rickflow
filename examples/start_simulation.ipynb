{
 "cells": [
  {
   "cell_type": "markdown",
   "metadata": {},
   "source": [
    "# Starting a Sequence of Simulations using Rickflow"
   ]
  },
  {
   "cell_type": "code",
   "execution_count": null,
   "metadata": {},
   "outputs": [],
   "source": [
    "import numpy as np\n",
    "\n",
    "import simtk.unit as u\n",
    "from simtk.openmm.app import CharmmPsfFile, CharmmCrdFile, CharmmParameterSet, PME\n",
    "from simtk.openmm.app import HBonds, Simulation, DCDReporter, StateDataReporter\n",
    "from simtk.openmm import MonteCarloAnisotropicBarostat\n",
    "from openmmtools.integrators import NoseHooverChainVelocityVerletIntegrator\n",
    "\n",
    "from rflow import RickFlow"
   ]
  },
  {
   "cell_type": "code",
   "execution_count": null,
   "metadata": {},
   "outputs": [],
   "source": [
    "workflow = RickFlow(\n",
    "    toppar=[\"top_all36_lipid.rtf\", \"par_all36_lipid.prm\"],\n",
    "    psf=\"hxdwat.psf\",\n",
    "    crd=\"hxdwat.crd\",\n",
    "    box_dimensions=[50,50,53.1975],\n",
    "    gpu_id=0,\n",
    "    nonbonded_method=PME,\n",
    ")\n"
   ]
  },
  {
   "cell_type": "code",
   "execution_count": null,
   "metadata": {
    "scrolled": true
   },
   "outputs": [],
   "source": [
    "\n",
    "temperature = 310.0 * u.kelvin\n",
    "\n",
    "# integrator (The Nose-Hoover integrator in openmm does is currently not using the right\n",
    "# number of degrees of freedom. The implementation in nosehoover.py provides a short-term fix,\n",
    "# which requires the system to be passed to the constructor)\n",
    "integrator = NoseHooverChainVelocityVerletIntegrator(\n",
    "        workflow.system, 310.0 * u.kelvin, 50.0 / u.picosecond, 1.0 * u.femtosecond,\n",
    "        chain_length=3, num_mts=3, num_yoshidasuzuki=3\n",
    ")\n",
    "\n",
    "# integrator = LangevinIntegrator(298.15 * u.kelvin, 1.0 / u.picosecond, 1.0 * u.femtosecond)\n",
    "\n",
    "#barostat = MonteCarloAnisotropicBarostat(\n",
    "#    u.Quantity(value=np.array([0.0, 0.0, 1.0]), unit=u.atmosphere), temperature,\n",
    "#    False, False, True\n",
    "#)\n",
    "\n",
    "workflow.prepareSimulation(integrator, barostat)\n",
    "\n"
   ]
  },
  {
   "cell_type": "code",
   "execution_count": null,
   "metadata": {},
   "outputs": [],
   "source": [
    "workflow.run()"
   ]
  }
 ],
 "metadata": {
  "kernelspec": {
   "display_name": "Python 3",
   "language": "python",
   "name": "python3"
  },
  "language_info": {
   "codemirror_mode": {
    "name": "ipython",
    "version": 3
   },
   "file_extension": ".py",
   "mimetype": "text/x-python",
   "name": "python",
   "nbconvert_exporter": "python",
   "pygments_lexer": "ipython3",
   "version": "3.6.4"
  }
 },
 "nbformat": 4,
 "nbformat_minor": 2
}
