{
 "cells": [
  {
   "cell_type": "markdown",
   "metadata": {},
   "source": [
    "# Calculating the Water Permeability of a LPS Bilayer by Counting Crossings"
   ]
  },
  {
   "cell_type": "markdown",
   "metadata": {},
   "source": [
    "I am using a few Python packages here.\n",
    "\n",
    "Numpy and pandas are available through anaconda's default channels\n",
    "\n",
    "```\n",
    "conda install numpy pandas\n",
    "```\n",
    "\n",
    "mdtraj and openmm are available on the omnia channel:\n",
    "```\n",
    "conda install -c omnia openmm mdtraj\n",
    "```\n",
    "\n",
    "rflow is my package. I have not uploaded it to conda yet, so you will have to clone it from gitlab, cd into the directory, and run\n",
    "```\n",
    "python setup.py install\n",
    "```"
   ]
  },
  {
   "cell_type": "code",
   "execution_count": 1,
   "metadata": {},
   "outputs": [],
   "source": [
    "import numpy as np\n",
    "import pandas as pd\n",
    "from simtk.openmm.app import CharmmPsfFile\n",
    "from rflow import TrajectoryIterator, PermeationEventCounter, normalize\n",
    "import mdtraj as md "
   ]
  },
  {
   "cell_type": "markdown",
   "metadata": {},
   "source": [
    "Creating an iterator over the trajectory files. \n",
    "\n",
    "This is a bit circumvential if you have only one trajectory file, \n",
    "but it is designed so that you can run the analysis on subsequent trajectories, (here they would be named *dyn1.dcd*, ..., *dyn100.dcd* ))."
   ]
  },
  {
   "cell_type": "code",
   "execution_count": 2,
   "metadata": {},
   "outputs": [],
   "source": [
    "trajectories = TrajectoryIterator(\n",
    "    first_sequence=1, last_sequence=1,\n",
    "    filename_template=\"dyn{}.dcd\",\n",
    "    topology_file=\"Ca_LPS.psf\"\n",
    ")"
   ]
  },
  {
   "cell_type": "markdown",
   "metadata": {},
   "source": [
    "(I renamed your trajectory into *dyn1.dcd*.)"
   ]
  },
  {
   "cell_type": "markdown",
   "metadata": {},
   "source": [
    "## Get a Reasonable Dividing Surface"
   ]
  },
  {
   "cell_type": "markdown",
   "metadata": {},
   "source": [
    "The dividing surface defines the border between the hydrophobic core of the bilayer and the water phase.\n",
    "In our applications, a good choice for the dividing surface was the phosphate plane. \n",
    "For water permeation, the number of crossings is not very sensitive wrt. the exact placement of the dividing surface. "
   ]
  },
  {
   "cell_type": "code",
   "execution_count": 3,
   "metadata": {},
   "outputs": [],
   "source": [
    "water_oxygens = trajectories.topology.select(\"water and mass > 2\")\n",
    "center_lipids = trajectories.topology.select(\"resname LIPA\")\n",
    "phosphates = trajectories.topology.select(\"name PA\")"
   ]
  },
  {
   "cell_type": "code",
   "execution_count": 4,
   "metadata": {},
   "outputs": [],
   "source": [
    "traj = next(iter(trajectories))"
   ]
  },
  {
   "cell_type": "markdown",
   "metadata": {},
   "source": [
    "This command just returns the trajectory from the trajectory iterator. If you work on multiple files, just use\n",
    "\n",
    "```\n",
    "for traj in trajectories:\n",
    "    ... do stuff ...\n",
    "```\n",
    "\n",
    "Now, lets get the z coordinates of the phosphate relative to the box height, i.e. all normalized coordinates are between 0 and 1, the center of the bilayer being at 0.5."
   ]
  },
  {
   "cell_type": "code",
   "execution_count": 5,
   "metadata": {},
   "outputs": [],
   "source": [
    "normalized_z = normalize(traj, 2, center_lipids, phosphates)"
   ]
  },
  {
   "cell_type": "code",
   "execution_count": 6,
   "metadata": {},
   "outputs": [
    {
     "data": {
      "text/plain": [
       "0.4989579041534057"
      ]
     },
     "execution_count": 6,
     "metadata": {},
     "output_type": "execute_result"
    }
   ],
   "source": [
    "normalized_z.mean()"
   ]
  },
  {
   "cell_type": "markdown",
   "metadata": {},
   "source": [
    "As expected, the phosphates are nicely centered around the normalized center 0.5."
   ]
  },
  {
   "cell_type": "code",
   "execution_count": 7,
   "metadata": {},
   "outputs": [
    {
     "name": "stdout",
     "output_type": "stream",
     "text": [
      "0.14\n"
     ]
    }
   ],
   "source": [
    "print(np.abs(normalized_z - 0.5).mean().round(3))"
   ]
  },
  {
   "cell_type": "markdown",
   "metadata": {},
   "source": [
    "The phosphate plane is at  $z_\\mathrm{normalized} = 0.5 \\pm 0.14.$\n",
    "I played around with this dividing surface a little bit and noticed that the one water that permeating molecule started off in between the phosphate planes. As a result, no permeation event was detected. I had to shift the diving surface slightly inward to $z_\\mathrm{normalized} = 0.5 \\pm 0.1.$"
   ]
  },
  {
   "cell_type": "markdown",
   "metadata": {},
   "source": [
    "## Counting Crossings"
   ]
  },
  {
   "cell_type": "markdown",
   "metadata": {},
   "source": [
    "In addition to the dividing surface, we have to specify the *center region*. \n",
    "If it is chosen too small, you miss crossings -- the PermeationEventCounter will let you know through a warning.\n",
    "If it is chosen too big, you get a lot of *fake entries and rebounds*. We will not have to worry that much, because\n",
    "we are mainly interested in crossings. I found that 20% of the dividing surface is a good value for your system."
   ]
  },
  {
   "cell_type": "code",
   "execution_count": 8,
   "metadata": {},
   "outputs": [],
   "source": [
    "pcount = PermeationEventCounter(center_threshold=0.02, \n",
    "                                dividing_surface=0.1, \n",
    "                                solute_ids=water_oxygens, \n",
    "                                membrane=center_lipids)\n",
    "\n",
    "for traj in trajectories:\n",
    "    pcount(traj)"
   ]
  },
  {
   "cell_type": "markdown",
   "metadata": {},
   "source": [
    "The events are stored in a dictionary `pcount.events`. I convert it to a pandas.DataFrame for nicer printing: "
   ]
  },
  {
   "cell_type": "code",
   "execution_count": 9,
   "metadata": {
    "scrolled": true
   },
   "outputs": [
    {
     "data": {
      "text/html": [
       "<div>\n",
       "<style scoped>\n",
       "    .dataframe tbody tr th:only-of-type {\n",
       "        vertical-align: middle;\n",
       "    }\n",
       "\n",
       "    .dataframe tbody tr th {\n",
       "        vertical-align: top;\n",
       "    }\n",
       "\n",
       "    .dataframe thead th {\n",
       "        text-align: right;\n",
       "    }\n",
       "</style>\n",
       "<table border=\"1\" class=\"dataframe\">\n",
       "  <thead>\n",
       "    <tr style=\"text-align: right;\">\n",
       "      <th></th>\n",
       "      <th>atom</th>\n",
       "      <th>crossing_time_nframes</th>\n",
       "      <th>entry_time_nframes</th>\n",
       "      <th>exit_time_nframes</th>\n",
       "      <th>frame</th>\n",
       "      <th>from_water</th>\n",
       "      <th>rebound_time_nframes</th>\n",
       "      <th>type</th>\n",
       "    </tr>\n",
       "  </thead>\n",
       "  <tbody>\n",
       "    <tr>\n",
       "      <th>0</th>\n",
       "      <td>36495</td>\n",
       "      <td>NaN</td>\n",
       "      <td>30.0</td>\n",
       "      <td>NaN</td>\n",
       "      <td>343</td>\n",
       "      <td>1</td>\n",
       "      <td>NaN</td>\n",
       "      <td>entry</td>\n",
       "    </tr>\n",
       "    <tr>\n",
       "      <th>1</th>\n",
       "      <td>36495</td>\n",
       "      <td>NaN</td>\n",
       "      <td>NaN</td>\n",
       "      <td>178.0</td>\n",
       "      <td>521</td>\n",
       "      <td>1</td>\n",
       "      <td>208.0</td>\n",
       "      <td>rebound</td>\n",
       "    </tr>\n",
       "    <tr>\n",
       "      <th>2</th>\n",
       "      <td>34425</td>\n",
       "      <td>NaN</td>\n",
       "      <td>210.0</td>\n",
       "      <td>NaN</td>\n",
       "      <td>610</td>\n",
       "      <td>1</td>\n",
       "      <td>NaN</td>\n",
       "      <td>entry</td>\n",
       "    </tr>\n",
       "    <tr>\n",
       "      <th>3</th>\n",
       "      <td>38127</td>\n",
       "      <td>NaN</td>\n",
       "      <td>105.0</td>\n",
       "      <td>NaN</td>\n",
       "      <td>624</td>\n",
       "      <td>1</td>\n",
       "      <td>NaN</td>\n",
       "      <td>entry</td>\n",
       "    </tr>\n",
       "    <tr>\n",
       "      <th>4</th>\n",
       "      <td>34425</td>\n",
       "      <td>NaN</td>\n",
       "      <td>NaN</td>\n",
       "      <td>15.0</td>\n",
       "      <td>625</td>\n",
       "      <td>1</td>\n",
       "      <td>225.0</td>\n",
       "      <td>rebound</td>\n",
       "    </tr>\n",
       "    <tr>\n",
       "      <th>5</th>\n",
       "      <td>38127</td>\n",
       "      <td>146.0</td>\n",
       "      <td>NaN</td>\n",
       "      <td>8.0</td>\n",
       "      <td>665</td>\n",
       "      <td>1</td>\n",
       "      <td>NaN</td>\n",
       "      <td>crossing</td>\n",
       "    </tr>\n",
       "  </tbody>\n",
       "</table>\n",
       "</div>"
      ],
      "text/plain": [
       "    atom  crossing_time_nframes  entry_time_nframes  exit_time_nframes  frame  \\\n",
       "0  36495                    NaN                30.0                NaN    343   \n",
       "1  36495                    NaN                 NaN              178.0    521   \n",
       "2  34425                    NaN               210.0                NaN    610   \n",
       "3  38127                    NaN               105.0                NaN    624   \n",
       "4  34425                    NaN                 NaN               15.0    625   \n",
       "5  38127                  146.0                 NaN                8.0    665   \n",
       "\n",
       "   from_water  rebound_time_nframes      type  \n",
       "0           1                   NaN     entry  \n",
       "1           1                 208.0   rebound  \n",
       "2           1                   NaN     entry  \n",
       "3           1                   NaN     entry  \n",
       "4           1                 225.0   rebound  \n",
       "5           1                   NaN  crossing  "
      ]
     },
     "execution_count": 9,
     "metadata": {},
     "output_type": "execute_result"
    }
   ],
   "source": [
    "events = pd.DataFrame(pcount.events)\n",
    "events"
   ]
  },
  {
   "cell_type": "markdown",
   "metadata": {},
   "source": [
    "Finally, we save this table to a file and print out the number of crossings:"
   ]
  },
  {
   "cell_type": "code",
   "execution_count": 15,
   "metadata": {},
   "outputs": [
    {
     "name": "stdout",
     "output_type": "stream",
     "text": [
      "#Crossings: 1\n"
     ]
    }
   ],
   "source": [
    "events.to_csv(\"permeation_events.csv\", na_rep=\"NaN\")\n",
    "print(\"#Crossings:\", (events.type==\"crossing\").sum())"
   ]
  },
  {
   "cell_type": "markdown",
   "metadata": {},
   "source": [
    "Relating the number of crossings to the permeability is easy. Let's do that once we have observed more events."
   ]
  }
 ],
 "metadata": {
  "kernelspec": {
   "display_name": "Python 3",
   "language": "python",
   "name": "python3"
  },
  "language_info": {
   "codemirror_mode": {
    "name": "ipython",
    "version": 3
   },
   "file_extension": ".py",
   "mimetype": "text/x-python",
   "name": "python",
   "nbconvert_exporter": "python",
   "pygments_lexer": "ipython3",
   "version": "3.6.6"
  }
 },
 "nbformat": 4,
 "nbformat_minor": 2
}
